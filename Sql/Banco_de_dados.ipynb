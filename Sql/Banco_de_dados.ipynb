{
 "cells": [
  {
   "cell_type": "markdown",
   "id": "30039cac-9738-48fb-a4a9-80b77cf81618",
   "metadata": {},
   "source": [
    "<h1>Criando um banco de dados em SQL com Python </h1>"
   ]
  },
  {
   "cell_type": "code",
   "execution_count": 1,
   "id": "8c30c540-4b81-467f-8784-1518a6db2626",
   "metadata": {
    "tags": []
   },
   "outputs": [],
   "source": [
    "#mágica sql para poder usar os comandos\n",
    "%load_ext sql"
   ]
  },
  {
   "cell_type": "code",
   "execution_count": 2,
   "id": "d8fd018a-9a8b-40c6-8497-4f22fdf39818",
   "metadata": {
    "tags": []
   },
   "outputs": [],
   "source": [
    "#Biblioteca necessária \n",
    "import sqlite3 "
   ]
  },
  {
   "cell_type": "code",
   "execution_count": 3,
   "id": "fa36222a-9bc9-419c-9a84-6a8c68a65cb0",
   "metadata": {
    "tags": []
   },
   "outputs": [],
   "source": [
    "banco = sqlite3.connect('banco_de_dados.db')#esse comando cria o arquivo 'banco_de_dados.db' que será o nosso banco de dados"
   ]
  },
  {
   "cell_type": "code",
   "execution_count": 4,
   "id": "81c6fff6-444b-4294-bce7-4b9c89ac3e17",
   "metadata": {
    "tags": []
   },
   "outputs": [
    {
     "name": "stdout",
     "output_type": "stream",
     "text": [
      "Done.\n"
     ]
    },
    {
     "data": {
      "text/plain": [
       "[]"
      ]
     },
     "execution_count": 4,
     "metadata": {},
     "output_type": "execute_result"
    }
   ],
   "source": [
    "%%sql sqlite:///banco.db\n",
    "-- Criando tabela \"cliente\" contendo informações como nome cpf cartao e data de nascimento \n",
    "\n",
    "\n",
    "CREATE TABLE if not exists cliente(\n",
    "    nome_do_cliente VARCHAR(100) NOT NULL,\n",
    "    cpf VARCHAR(100) NOT NULL,\n",
    "    cartao VARCHAR(100),\n",
    "    data_de_nascimento DATE);"
   ]
  },
  {
   "cell_type": "code",
   "execution_count": 5,
   "id": "3a365e37-5530-4e19-9201-8cf3e23629e9",
   "metadata": {
    "tags": []
   },
   "outputs": [
    {
     "name": "stdout",
     "output_type": "stream",
     "text": [
      " * sqlite:///banco.db\n",
      "Done.\n"
     ]
    },
    {
     "data": {
      "text/html": [
       "<table>\n",
       "    <thead>\n",
       "        <tr>\n",
       "            <th>nome_do_cliente</th>\n",
       "            <th>cpf</th>\n",
       "            <th>cartao</th>\n",
       "            <th>data_de_nascimento</th>\n",
       "        </tr>\n",
       "    </thead>\n",
       "    <tbody>\n",
       "    </tbody>\n",
       "</table>"
      ],
      "text/plain": [
       "[]"
      ]
     },
     "execution_count": 5,
     "metadata": {},
     "output_type": "execute_result"
    }
   ],
   "source": [
    " %sql select * from cliente "
   ]
  },
  {
   "cell_type": "code",
   "execution_count": 6,
   "id": "7512d6d8-62c2-4804-bae7-3018447f9d58",
   "metadata": {
    "tags": []
   },
   "outputs": [
    {
     "name": "stdout",
     "output_type": "stream",
     "text": [
      " * sqlite:///banco.db\n",
      "5 rows affected.\n"
     ]
    },
    {
     "data": {
      "text/plain": [
       "[]"
      ]
     },
     "execution_count": 6,
     "metadata": {},
     "output_type": "execute_result"
    }
   ],
   "source": [
    "%%sql\n",
    "\n",
    "--Adicionando algunas valores a essa tabela \n",
    "\n",
    "INSERT INTO cliente (nome_do_cliente,cpf,cartao,data_de_nascimento) VALUES\n",
    "    ('Leonardo','4353453453','12341234','18-01-1990'),\n",
    "    ('Carlos','432565453','21342143','09-05-2010'),\n",
    "    ('Lucas','5365436365','12341234','10-10-2001'),\n",
    "    ('Diego','3563653464','134124321','27-01-1980'),\n",
    "    ('Joao','245254352','123424231','13-04-1930');"
   ]
  },
  {
   "cell_type": "code",
   "execution_count": 7,
   "id": "0b7426b3-17ba-4efd-9ab3-929bdf60ce6a",
   "metadata": {
    "tags": []
   },
   "outputs": [
    {
     "name": "stdout",
     "output_type": "stream",
     "text": [
      " * sqlite:///banco.db\n",
      "Done.\n"
     ]
    },
    {
     "data": {
      "text/html": [
       "<table>\n",
       "    <thead>\n",
       "        <tr>\n",
       "            <th>nome_do_cliente</th>\n",
       "            <th>cpf</th>\n",
       "            <th>cartao</th>\n",
       "            <th>data_de_nascimento</th>\n",
       "        </tr>\n",
       "    </thead>\n",
       "    <tbody>\n",
       "        <tr>\n",
       "            <td>Leonardo</td>\n",
       "            <td>4353453453</td>\n",
       "            <td>12341234</td>\n",
       "            <td>18-01-1990</td>\n",
       "        </tr>\n",
       "        <tr>\n",
       "            <td>Carlos</td>\n",
       "            <td>432565453</td>\n",
       "            <td>21342143</td>\n",
       "            <td>09-05-2010</td>\n",
       "        </tr>\n",
       "        <tr>\n",
       "            <td>Lucas</td>\n",
       "            <td>5365436365</td>\n",
       "            <td>12341234</td>\n",
       "            <td>10-10-2001</td>\n",
       "        </tr>\n",
       "        <tr>\n",
       "            <td>Diego</td>\n",
       "            <td>3563653464</td>\n",
       "            <td>134124321</td>\n",
       "            <td>27-01-1980</td>\n",
       "        </tr>\n",
       "        <tr>\n",
       "            <td>Joao</td>\n",
       "            <td>245254352</td>\n",
       "            <td>123424231</td>\n",
       "            <td>13-04-1930</td>\n",
       "        </tr>\n",
       "    </tbody>\n",
       "</table>"
      ],
      "text/plain": [
       "[('Leonardo', '4353453453', '12341234', '18-01-1990'),\n",
       " ('Carlos', '432565453', '21342143', '09-05-2010'),\n",
       " ('Lucas', '5365436365', '12341234', '10-10-2001'),\n",
       " ('Diego', '3563653464', '134124321', '27-01-1980'),\n",
       " ('Joao', '245254352', '123424231', '13-04-1930')]"
      ]
     },
     "execution_count": 7,
     "metadata": {},
     "output_type": "execute_result"
    }
   ],
   "source": [
    "%sql select * from cliente"
   ]
  },
  {
   "cell_type": "code",
   "execution_count": 8,
   "id": "bbf08958-b58f-44d9-bd16-b7b13babc3b3",
   "metadata": {
    "tags": []
   },
   "outputs": [],
   "source": [
    "banco.close()"
   ]
  }
 ],
 "metadata": {
  "kernelspec": {
   "display_name": "Python 3 (ipykernel)",
   "language": "python",
   "name": "python3"
  },
  "language_info": {
   "codemirror_mode": {
    "name": "ipython",
    "version": 3
   },
   "file_extension": ".py",
   "mimetype": "text/x-python",
   "name": "python",
   "nbconvert_exporter": "python",
   "pygments_lexer": "ipython3",
   "version": "3.11.3"
  }
 },
 "nbformat": 4,
 "nbformat_minor": 5
}
