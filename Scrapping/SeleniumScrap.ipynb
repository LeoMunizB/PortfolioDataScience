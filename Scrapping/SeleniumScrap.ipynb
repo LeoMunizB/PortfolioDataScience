{
 "cells": [
  {
   "cell_type": "code",
   "execution_count": 1,
   "id": "b7d62c45-93cb-4008-819c-10d571d9dd3f",
   "metadata": {
    "tags": []
   },
   "outputs": [],
   "source": [
    "from selenium import webdriver\n",
    "from selenium.webdriver.chrome.options import Options\n",
    "from selenium.webdriver.common.by import By \n",
    "from bs4 import BeautifulSoup\n",
    "from time import sleep\n",
    "import pandas as pd\n"
   ]
  },
  {
   "cell_type": "code",
   "execution_count": 11,
   "id": "028a0af3-c6a0-438c-b3c9-b66e37ba3294",
   "metadata": {
    "tags": []
   },
   "outputs": [],
   "source": [
    "url = 'https://www.infomoney.com.br/'\n",
    "\n",
    "opções = Options()\n",
    "opções.add_argument('--headless')\n",
    "opções.add_argument('window-size:400,800')\n",
    "\n",
    "navegador = webdriver.Chrome(options=opções)\n",
    "\n",
    "navegador.get(url)\n",
    "\n",
    "sleep(1)\n",
    "\n",
    "tabelas = navegador.find_elements(By.TAG_NAME , 'table')\n"
   ]
  },
  {
   "cell_type": "code",
   "execution_count": 12,
   "id": "14080b78-803a-4840-9bc7-62b56d66ae83",
   "metadata": {
    "tags": []
   },
   "outputs": [],
   "source": [
    "data = []\n",
    "for i in range(len(tabelas)):\n",
    "    for row in tabelas[i].find_elements(By.TAG_NAME , 'tr'):\n",
    "        cols =  row.find_elements(By.TAG_NAME , 'td')\n",
    "        cols = [col.text.strip() for col in cols]\n",
    "        data.append(cols)\n",
    "df = pd.DataFrame(data, columns = ['TICKER','PORCENTAGEM','VALOR DA AÇÃO'])"
   ]
  },
  {
   "cell_type": "code",
   "execution_count": 13,
   "id": "2c335150-4460-4d61-9636-42fc00186789",
   "metadata": {
    "tags": []
   },
   "outputs": [
    {
     "data": {
      "text/html": [
       "<div>\n",
       "<style scoped>\n",
       "    .dataframe tbody tr th:only-of-type {\n",
       "        vertical-align: middle;\n",
       "    }\n",
       "\n",
       "    .dataframe tbody tr th {\n",
       "        vertical-align: top;\n",
       "    }\n",
       "\n",
       "    .dataframe thead th {\n",
       "        text-align: right;\n",
       "    }\n",
       "</style>\n",
       "<table border=\"1\" class=\"dataframe\">\n",
       "  <thead>\n",
       "    <tr style=\"text-align: right;\">\n",
       "      <th></th>\n",
       "      <th>TICKER</th>\n",
       "      <th>PORCENTAGEM</th>\n",
       "      <th>VALOR DA AÇÃO</th>\n",
       "    </tr>\n",
       "  </thead>\n",
       "  <tbody>\n",
       "    <tr>\n",
       "      <th>0</th>\n",
       "      <td>ELET6</td>\n",
       "      <td>+3.66%</td>\n",
       "      <td>R$ 40,21</td>\n",
       "    </tr>\n",
       "    <tr>\n",
       "      <th>1</th>\n",
       "      <td>ELET3</td>\n",
       "      <td>+3.40%</td>\n",
       "      <td>R$ 37,09</td>\n",
       "    </tr>\n",
       "    <tr>\n",
       "      <th>2</th>\n",
       "      <td>YDUQ3</td>\n",
       "      <td>+1.94%</td>\n",
       "      <td>R$ 19,41</td>\n",
       "    </tr>\n",
       "    <tr>\n",
       "      <th>3</th>\n",
       "      <td>VIIA3</td>\n",
       "      <td>+1.69%</td>\n",
       "      <td>R$ 0,60</td>\n",
       "    </tr>\n",
       "    <tr>\n",
       "      <th>4</th>\n",
       "      <td>FLRY3</td>\n",
       "      <td>+1.45%</td>\n",
       "      <td>R$ 15,38</td>\n",
       "    </tr>\n",
       "    <tr>\n",
       "      <th>5</th>\n",
       "      <td>ENGI11</td>\n",
       "      <td>-1.78%</td>\n",
       "      <td>R$ 48,01</td>\n",
       "    </tr>\n",
       "    <tr>\n",
       "      <th>6</th>\n",
       "      <td>CYRE3</td>\n",
       "      <td>-1.41%</td>\n",
       "      <td>R$ 20,29</td>\n",
       "    </tr>\n",
       "    <tr>\n",
       "      <th>7</th>\n",
       "      <td>PETZ3</td>\n",
       "      <td>-1.40%</td>\n",
       "      <td>R$ 4,93</td>\n",
       "    </tr>\n",
       "    <tr>\n",
       "      <th>8</th>\n",
       "      <td>PRIO3</td>\n",
       "      <td>-1.36%</td>\n",
       "      <td>R$ 46,34</td>\n",
       "    </tr>\n",
       "    <tr>\n",
       "      <th>9</th>\n",
       "      <td>LREN3</td>\n",
       "      <td>-1.30%</td>\n",
       "      <td>R$ 13,62</td>\n",
       "    </tr>\n",
       "    <tr>\n",
       "      <th>10</th>\n",
       "      <td>DÓLAR</td>\n",
       "      <td>+0,06%</td>\n",
       "      <td>R$ 4,97</td>\n",
       "    </tr>\n",
       "    <tr>\n",
       "      <th>11</th>\n",
       "      <td>BITCOIN</td>\n",
       "      <td>-0,57%</td>\n",
       "      <td>R$ 129857,00</td>\n",
       "    </tr>\n",
       "  </tbody>\n",
       "</table>\n",
       "</div>"
      ],
      "text/plain": [
       "     TICKER PORCENTAGEM VALOR DA AÇÃO\n",
       "0     ELET6      +3.66%      R$ 40,21\n",
       "1     ELET3      +3.40%      R$ 37,09\n",
       "2     YDUQ3      +1.94%      R$ 19,41\n",
       "3     VIIA3      +1.69%       R$ 0,60\n",
       "4     FLRY3      +1.45%      R$ 15,38\n",
       "5    ENGI11      -1.78%      R$ 48,01\n",
       "6     CYRE3      -1.41%      R$ 20,29\n",
       "7     PETZ3      -1.40%       R$ 4,93\n",
       "8     PRIO3      -1.36%      R$ 46,34\n",
       "9     LREN3      -1.30%      R$ 13,62\n",
       "10    DÓLAR      +0,06%       R$ 4,97\n",
       "11  BITCOIN      -0,57%  R$ 129857,00"
      ]
     },
     "execution_count": 13,
     "metadata": {},
     "output_type": "execute_result"
    }
   ],
   "source": [
    "df"
   ]
  }
 ],
 "metadata": {
  "kernelspec": {
   "display_name": "Python 3 (ipykernel)",
   "language": "python",
   "name": "python3"
  },
  "language_info": {
   "codemirror_mode": {
    "name": "ipython",
    "version": 3
   },
   "file_extension": ".py",
   "mimetype": "text/x-python",
   "name": "python",
   "nbconvert_exporter": "python",
   "pygments_lexer": "ipython3",
   "version": "3.11.3"
  }
 },
 "nbformat": 4,
 "nbformat_minor": 5
}
