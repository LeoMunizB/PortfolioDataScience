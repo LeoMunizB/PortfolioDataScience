{
 "cells": [
  {
   "cell_type": "code",
   "execution_count": 1,
   "id": "b7d62c45-93cb-4008-819c-10d571d9dd3f",
   "metadata": {
    "tags": []
   },
   "outputs": [],
   "source": [
    "#Importando bibliotecas\n",
    "from selenium import webdriver\n",
    "from selenium.webdriver.chrome.options import Options\n",
    "from selenium.webdriver.common.by import By \n",
    "from bs4 import BeautifulSoup\n",
    "from time import sleep\n",
    "import pandas as pd\n"
   ]
  },
  {
   "cell_type": "code",
   "execution_count": 2,
   "id": "028a0af3-c6a0-438c-b3c9-b66e37ba3294",
   "metadata": {
    "tags": []
   },
   "outputs": [],
   "source": [
    "#Eu quero pegar a tabela do site da infomoney que me da as maiores altas e baixas das ações. Também pega a cotação do dolar e do bitcoin\n",
    "#Como é uma tabela que atualiza a cada 15min se eu usar apenas o BealtifulSoup ele vai me dar uma tag vazia , por isso estou usando o selenium\n",
    "url = 'https://www.infomoney.com.br/'\n",
    "\n",
    "opções = Options()\n",
    "opções.add_argument('--headless')\n",
    "opções.add_argument('window-size:400,800')\n",
    "\n",
    "navegador = webdriver.Chrome(options=opções)\n",
    "\n",
    "navegador.get(url)\n",
    "\n",
    "sleep(1)\n",
    "\n",
    "tabelas = navegador.find_elements(By.TAG_NAME , 'table')\n"
   ]
  },
  {
   "cell_type": "code",
   "execution_count": 3,
   "id": "14080b78-803a-4840-9bc7-62b56d66ae83",
   "metadata": {
    "tags": []
   },
   "outputs": [],
   "source": [
    "#Código para pegar as linhas e as colunas da tabela \n",
    "data = []\n",
    "for i in range(len(tabelas)):\n",
    "    for row in tabelas[i].find_elements(By.TAG_NAME , 'tr'):\n",
    "        cols =  row.find_elements(By.TAG_NAME , 'td')\n",
    "        cols = [col.text.strip() for col in cols]\n",
    "        data.append(cols)\n",
    "df = pd.DataFrame(data, columns = ['TICKER','PORCENTAGEM','VALOR DA AÇÃO'])"
   ]
  },
  {
   "cell_type": "code",
   "execution_count": 4,
   "id": "2c335150-4460-4d61-9636-42fc00186789",
   "metadata": {
    "tags": []
   },
   "outputs": [
    {
     "data": {
      "text/html": [
       "<div>\n",
       "<style scoped>\n",
       "    .dataframe tbody tr th:only-of-type {\n",
       "        vertical-align: middle;\n",
       "    }\n",
       "\n",
       "    .dataframe tbody tr th {\n",
       "        vertical-align: top;\n",
       "    }\n",
       "\n",
       "    .dataframe thead th {\n",
       "        text-align: right;\n",
       "    }\n",
       "</style>\n",
       "<table border=\"1\" class=\"dataframe\">\n",
       "  <thead>\n",
       "    <tr style=\"text-align: right;\">\n",
       "      <th></th>\n",
       "      <th>TICKER</th>\n",
       "      <th>PORCENTAGEM</th>\n",
       "      <th>VALOR DA AÇÃO</th>\n",
       "    </tr>\n",
       "  </thead>\n",
       "  <tbody>\n",
       "    <tr>\n",
       "      <th>0</th>\n",
       "      <td>FLRY3</td>\n",
       "      <td>+3.36%</td>\n",
       "      <td>R$ 15,66</td>\n",
       "    </tr>\n",
       "    <tr>\n",
       "      <th>1</th>\n",
       "      <td>BBSE3</td>\n",
       "      <td>+2.33%</td>\n",
       "      <td>R$ 31,94</td>\n",
       "    </tr>\n",
       "    <tr>\n",
       "      <th>2</th>\n",
       "      <td>BRFS3</td>\n",
       "      <td>+2.06%</td>\n",
       "      <td>R$ 10,40</td>\n",
       "    </tr>\n",
       "    <tr>\n",
       "      <th>3</th>\n",
       "      <td>BEEF3</td>\n",
       "      <td>+1.73%</td>\n",
       "      <td>R$ 8,23</td>\n",
       "    </tr>\n",
       "    <tr>\n",
       "      <th>4</th>\n",
       "      <td>VIVT3</td>\n",
       "      <td>+1.25%</td>\n",
       "      <td>R$ 43,72</td>\n",
       "    </tr>\n",
       "    <tr>\n",
       "      <th>5</th>\n",
       "      <td>VAMO3</td>\n",
       "      <td>-8.41%</td>\n",
       "      <td>R$ 8,93</td>\n",
       "    </tr>\n",
       "    <tr>\n",
       "      <th>6</th>\n",
       "      <td>MRVE3</td>\n",
       "      <td>-6.56%</td>\n",
       "      <td>R$ 9,97</td>\n",
       "    </tr>\n",
       "    <tr>\n",
       "      <th>7</th>\n",
       "      <td>AZUL4</td>\n",
       "      <td>-6.14%</td>\n",
       "      <td>R$ 13,59</td>\n",
       "    </tr>\n",
       "    <tr>\n",
       "      <th>8</th>\n",
       "      <td>IRBR3</td>\n",
       "      <td>-5.29%</td>\n",
       "      <td>R$ 41,67</td>\n",
       "    </tr>\n",
       "    <tr>\n",
       "      <th>9</th>\n",
       "      <td>MGLU3</td>\n",
       "      <td>-5.18%</td>\n",
       "      <td>R$ 2,01</td>\n",
       "    </tr>\n",
       "    <tr>\n",
       "      <th>10</th>\n",
       "      <td>DÓLAR</td>\n",
       "      <td>+0,80%</td>\n",
       "      <td>R$ 5,07</td>\n",
       "    </tr>\n",
       "    <tr>\n",
       "      <th>11</th>\n",
       "      <td>BITCOIN</td>\n",
       "      <td>+0,16%</td>\n",
       "      <td>R$ 139479,00</td>\n",
       "    </tr>\n",
       "  </tbody>\n",
       "</table>\n",
       "</div>"
      ],
      "text/plain": [
       "     TICKER PORCENTAGEM VALOR DA AÇÃO\n",
       "0     FLRY3      +3.36%      R$ 15,66\n",
       "1     BBSE3      +2.33%      R$ 31,94\n",
       "2     BRFS3      +2.06%      R$ 10,40\n",
       "3     BEEF3      +1.73%       R$ 8,23\n",
       "4     VIVT3      +1.25%      R$ 43,72\n",
       "5     VAMO3      -8.41%       R$ 8,93\n",
       "6     MRVE3      -6.56%       R$ 9,97\n",
       "7     AZUL4      -6.14%      R$ 13,59\n",
       "8     IRBR3      -5.29%      R$ 41,67\n",
       "9     MGLU3      -5.18%       R$ 2,01\n",
       "10    DÓLAR      +0,80%       R$ 5,07\n",
       "11  BITCOIN      +0,16%  R$ 139479,00"
      ]
     },
     "execution_count": 4,
     "metadata": {},
     "output_type": "execute_result"
    }
   ],
   "source": [
    "df"
   ]
  },
  {
   "cell_type": "markdown",
   "id": "dd7ab570-f49c-4eca-aa9f-e9e07bc1fe2f",
   "metadata": {},
   "source": [
    "<h1>Conclusão</h1>\n",
    "\n",
    "O webscrapping serve para conseguir informações da internet , se eu quero saber as 5 maiores altas do mercado e 5 maiores baixas do mercado basta eu rodar o código e ela vai aparecer sem precisar de alteração no meu código , pois como no site as informações sempre se atualizam, e eu puxo minhas informações dele, eu sempre vou pegar as cotações atualizadas\n",
    "\n"
   ]
  }
 ],
 "metadata": {
  "kernelspec": {
   "display_name": "Python 3 (ipykernel)",
   "language": "python",
   "name": "python3"
  },
  "language_info": {
   "codemirror_mode": {
    "name": "ipython",
    "version": 3
   },
   "file_extension": ".py",
   "mimetype": "text/x-python",
   "name": "python",
   "nbconvert_exporter": "python",
   "pygments_lexer": "ipython3",
   "version": "3.11.3"
  }
 },
 "nbformat": 4,
 "nbformat_minor": 5
}
